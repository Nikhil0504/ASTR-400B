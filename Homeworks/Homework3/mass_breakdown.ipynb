{
 "cells": [
  {
   "cell_type": "code",
   "execution_count": 34,
   "metadata": {},
   "outputs": [],
   "source": [
    "from GalaxyMass import ComponentMass"
   ]
  },
  {
   "cell_type": "code",
   "execution_count": 35,
   "metadata": {},
   "outputs": [],
   "source": [
    "import pandas as pd"
   ]
  },
  {
   "cell_type": "code",
   "execution_count": 36,
   "metadata": {},
   "outputs": [],
   "source": [
    "galaxies = [\"MW\", \"M31\", \"M33\"]"
   ]
  },
  {
   "cell_type": "code",
   "execution_count": 39,
   "metadata": {},
   "outputs": [],
   "source": [
    "def get_values(gal_name: str):\n",
    "    fp = f\"../../Data/{gal_name}_000.txt\"\n",
    "\n",
    "    dm_halo_mass = ComponentMass(fp, 1)\n",
    "    disk_mass = ComponentMass(fp, 2)\n",
    "    bulge_mass = ComponentMass(fp, 3)\n",
    "\n",
    "    total_mass = dm_halo_mass + disk_mass + bulge_mass\n",
    "    total_stellar_mass = disk_mass + bulge_mass\n",
    "    f_bar = total_stellar_mass / total_mass\n",
    "\n",
    "    # round to 3 decimal places\n",
    "    dm_halo_mass = round(dm_halo_mass.value, 3)\n",
    "    disk_mass = round(disk_mass.value, 3)\n",
    "    bulge_mass = round(bulge_mass.value, 3)\n",
    "    total_mass = round(total_mass.value, 3)\n",
    "    total_stellar_mass = round(total_stellar_mass.value, 3)\n",
    "    f_bar = round(f_bar.value, 3)\n",
    "\n",
    "    return dm_halo_mass, disk_mass, bulge_mass, total_mass, total_stellar_mass, f_bar"
   ]
  },
  {
   "cell_type": "code",
   "execution_count": 40,
   "metadata": {},
   "outputs": [],
   "source": [
    "# make table of values\n",
    "data = {\n",
    "    \"Galaxy Name\": [],\n",
    "    \"Halo Mass (1e10 Msun)\": [],\n",
    "    \"Disk Mass (1e10 Msun)\": [],\n",
    "    \"Bulge Mass (1e10 Msun)\": [],\n",
    "    \"Total Mass (1e10 Msun)\": [],\n",
    "    \"f_bar\": [],\n",
    "}\n",
    "for gal in galaxies:\n",
    "    (\n",
    "        dm_halo_mass, \n",
    "        disk_mass, \n",
    "        bulge_mass, \n",
    "        total_mass, \n",
    "        total_stellar_mass, \n",
    "        f_bar,\n",
    "    ) = get_values(gal)\n",
    "    \n",
    "    data[\"Galaxy Name\"].append(gal)\n",
    "    data[\"Halo Mass (1e10 Msun)\"].append(dm_halo_mass / 1e10)\n",
    "    data[\"Disk Mass (1e10 Msun)\"].append(disk_mass / 1e10)\n",
    "    data[\"Bulge Mass (1e10 Msun)\"].append(bulge_mass / 1e10)\n",
    "    data[\"Total Mass (1e10 Msun)\"].append(total_mass / 1e10)\n",
    "    data[\"f_bar\"].append(f_bar)\n",
    "\n",
    "\n",
    "# create dataframe from dictionary\n",
    "df = pd.DataFrame(data)"
   ]
  },
  {
   "cell_type": "code",
   "execution_count": 42,
   "metadata": {},
   "outputs": [
    {
     "name": "stdout",
     "output_type": "stream",
     "text": [
      "| Galaxy Name   |   Halo Mass (1e10 Msun) |   Disk Mass (1e10 Msun) |   Bulge Mass (1e10 Msun) |   Total Mass (1e10 Msun) |   f_bar |\n",
      "|:--------------|------------------------:|------------------------:|-------------------------:|-------------------------:|--------:|\n",
      "| MW            |                 197.492 |                    7.5  |                    1     |                  205.993 |   0.041 |\n",
      "| M31           |                 192.088 |                   12    |                    1.905 |                  205.993 |   0.068 |\n",
      "| M33           |                  18.661 |                    0.93 |                    0     |                   19.591 |   0.047 |\n"
     ]
    }
   ],
   "source": [
    "# to markdown and saving it as a latex file\n",
    "df = df.round(3)\n",
    "print(df.to_markdown(index=False))"
   ]
  },
  {
   "cell_type": "markdown",
   "metadata": {},
   "source": [
    "| Galaxy Name   |   Halo Mass (1e10 Msun) |   Disk Mass (1e10 Msun) |   Bulge Mass (1e10 Msun) |   Total Mass (1e10 Msun) |   f_bar |\n",
    "|:--------------|------------------------:|------------------------:|-------------------------:|-------------------------:|--------:|\n",
    "| MW            |                 197.492 |                    7.5  |                    1     |                  205.993 |   0.041 |\n",
    "| M31           |                 192.088 |                   12    |                    1.905 |                  205.993 |   0.068 |\n",
    "| M33           |                  18.661 |                    0.93 |                    0     |                   19.591 |   0.047 |"
   ]
  },
  {
   "cell_type": "code",
   "execution_count": null,
   "metadata": {},
   "outputs": [],
   "source": []
  }
 ],
 "metadata": {
  "kernelspec": {
   "display_name": "astroJWST",
   "language": "python",
   "name": "python3"
  },
  "language_info": {
   "codemirror_mode": {
    "name": "ipython",
    "version": 3
   },
   "file_extension": ".py",
   "mimetype": "text/x-python",
   "name": "python",
   "nbconvert_exporter": "python",
   "pygments_lexer": "ipython3",
   "version": "3.10.8"
  }
 },
 "nbformat": 4,
 "nbformat_minor": 2
}
