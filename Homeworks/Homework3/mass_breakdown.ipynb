{
 "cells": [
  {
   "cell_type": "code",
   "execution_count": 2,
   "metadata": {},
   "outputs": [],
   "source": [
    "from GalaxyMass import ComponentMass"
   ]
  },
  {
   "cell_type": "code",
   "execution_count": null,
   "metadata": {},
   "outputs": [],
   "source": [
    "from astropy.table import Table"
   ]
  },
  {
   "cell_type": "code",
   "execution_count": 4,
   "metadata": {},
   "outputs": [],
   "source": [
    "galaxies = [\"MW\", \"M31\", \"M33\"]"
   ]
  },
  {
   "cell_type": "code",
   "execution_count": null,
   "metadata": {},
   "outputs": [],
   "source": [
    "def get_values(gal_name: str, snap: int = 000):\n",
    "    fp = f\"../../Data/{gal_name}_{snap}.txt\"\n",
    "\n",
    "    dm_halo_mass = ComponentMass(fp, 1)\n",
    "    disk_mass = ComponentMass(fp, 2)\n",
    "    bulge_mass = ComponentMass(fp, 3)\n",
    "\n",
    "    total_mass = dm_halo_mass + disk_mass + bulge_mass\n",
    "    total_stellar_mass = disk_mass + bulge_mass\n",
    "    f_bar = total_stellar_mass / total_mass\n",
    "\n",
    "    return dm_halo_mass, disk_mass, bulge_mass, total_mass, total_stellar_mass, f_bar"
   ]
  },
  {
   "cell_type": "code",
   "execution_count": 13,
   "metadata": {},
   "outputs": [],
   "source": [
    "# make table of values\n",
    "data = {\n",
    "    \"Galaxy Name\": [],\n",
    "    \"Halo Mass (1e10 Msun)\": [],\n",
    "    \"Disk Mass (1e10 Msun)\": [],\n",
    "    \"Bulge Mass (1e10 Msun)\": [],\n",
    "    \"Total Mass (1e10 Msun)\": [],\n",
    "    \"f_bar\": [],\n",
    "}\n",
    "for gal in galaxies:\n",
    "    (\n",
    "        dm_halo_mass,\n",
    "        disk_mass,\n",
    "        bulge_mass,\n",
    "        total_mass,\n",
    "        total_stellar_mass,\n",
    "        f_bar,\n",
    "    ) = get_values(gal)\n",
    "\n",
    "    data[\"Galaxy Name\"].append(gal)\n",
    "    data[\"Halo Mass (1e10 Msun)\"].append(dm_halo_mass / 1e10)\n",
    "    data[\"Disk Mass (1e10 Msun)\"].append(disk_mass / 1e10)\n",
    "    data[\"Bulge Mass (1e10 Msun)\"].append(bulge_mass / 1e10)\n",
    "    data[\"Total Mass (1e10 Msun)\"].append(total_mass / 1e10)\n",
    "    data[\"f_bar\"].append(f_bar)\n",
    "\n",
    "\n",
    "# create dataframe from dictionary\n",
    "df = Table(data)"
   ]
  },
  {
   "cell_type": "code",
   "execution_count": 16,
   "metadata": {},
   "outputs": [],
   "source": [
    "# Convert to pandas and round to 3 decimal places\n",
    "df = df.to_pandas().round(3)"
   ]
  },
  {
   "cell_type": "code",
   "execution_count": null,
   "metadata": {},
   "outputs": [],
   "source": [
    "# to markdown and saving it as a latex file\n",
    "print(df.to_markdown(index=False))"
   ]
  },
  {
   "cell_type": "markdown",
   "metadata": {},
   "source": [
    "| Galaxy Name   |   Halo Mass (1e10 Msun) |   Disk Mass (1e10 Msun) |   Bulge Mass (1e10 Msun) |   Total Mass (1e10 Msun) |   f_bar |\n",
    "|:--------------|------------------------:|------------------------:|-------------------------:|-------------------------:|--------:|\n",
    "| MW            |                 197.492 |                    7.5  |                    1     |                  205.993 |   0.041 |\n",
    "| M31           |                 192.088 |                   12    |                    1.905 |                  205.993 |   0.068 |\n",
    "| M33           |                  18.661 |                    0.93 |                    0     |                   19.591 |   0.047 |"
   ]
  },
  {
   "cell_type": "markdown",
   "metadata": {},
   "source": [
    "1. How does the total mass of the MW and M31 compare in this simulation? What galaxy\n",
    "component dominates this total mass?\n",
    "\n",
    "A. The total mass of the MW and M31 are the same in this simulation. The halo mass\n",
    "dominates the total mass of the galaxy.\n",
    "\n",
    "2. How does the stellar mass of the MW and M31 compare? Which galaxy do you expect\n",
    "to be more luminous?\n",
    "\n",
    "A. The stellar mass of the MW is 7.5e10 Msun and the stellar mass of M31 is 12e10 Msun.\n",
    "M31 is expected to be more luminous.\n",
    "\n",
    "3. How does the total dark matter mass of MW and M31 compare in this simulation\n",
    "(ratio)? Is this surprising, given their difference in stellar mass?\n",
    "\n",
    "A. The total dark matter mass of MW and M31 are the about same in this simulation. \n",
    "This is surprising given their difference in stellar mass.\n",
    "\n",
    "4. What is the ratio of stellar mass to total mass for each galaxy (i.e. the Baryon fraction)?\n",
    "In the Universe, Ωb/Ωm ∼16% of all mass is locked up in baryons (gas & stars) vs.\n",
    "dark matter. How does this ratio compare to the baryon fraction you computed for\n",
    "each galaxy? Given that the total gas mass in the disks of these galaxies is negligible\n",
    "compared to the stellar mass, any ideas for why the universal baryon fraction might\n",
    "differ from that in these galaxies?\n",
    "\n",
    "A. The baryon fraction for MW is 0.041, for M31 is 0.068 and for M33 is 0.047. The\n",
    "baryon fraction for MW and M31 is less than 16% and for M33 is more than 16%. The\n",
    "universal baryon fraction might differ from that in these galaxies because the total gas\n",
    "mass in the disks of these galaxies is negligible compared to the stellar mass."
   ]
  },
  {
   "cell_type": "markdown",
   "metadata": {},
   "source": []
  }
 ],
 "metadata": {
  "kernelspec": {
   "display_name": "astroJWST",
   "language": "python",
   "name": "python3"
  },
  "language_info": {
   "codemirror_mode": {
    "name": "ipython",
    "version": 3
   },
   "file_extension": ".py",
   "mimetype": "text/x-python",
   "name": "python",
   "nbconvert_exporter": "python",
   "pygments_lexer": "ipython3",
   "version": "3.10.8"
  }
 },
 "nbformat": 4,
 "nbformat_minor": 2
}
