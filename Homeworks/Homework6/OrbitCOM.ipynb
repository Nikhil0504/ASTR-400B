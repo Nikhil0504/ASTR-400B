{
 "cells": [
  {
   "cell_type": "code",
   "execution_count": null,
   "metadata": {},
   "outputs": [],
   "source": [
    "# Homework 6 Template\n",
    "# G. Besla & R. Li"
   ]
  },
  {
   "cell_type": "code",
   "execution_count": 1,
   "metadata": {},
   "outputs": [],
   "source": [
    "# import modules\n",
    "import numpy as np\n",
    "import astropy.units as u\n",
    "from astropy.constants import G\n",
    "\n",
    "# import plotting modules\n",
    "import matplotlib.pyplot as plt\n",
    "import matplotlib\n",
    "%matplotlib inline\n",
    "\n",
    "# my modules\n",
    "from ReadFile import Read\n",
    "# Step 1: modify CenterOfMass so that COM_P now takes a parameter specifying \n",
    "# by how much to decrease RMAX instead of a factor of 2\n",
    "from CenterOfMass2 import CenterOfMass\n",
    "\n"
   ]
  },
  {
   "cell_type": "code",
   "execution_count": 4,
   "metadata": {},
   "outputs": [],
   "source": [
    "def OrbitCOM(galaxy, start, end, n):\n",
    "    \"\"\"function that loops over all the desired snapshots to compute the COM pos and vel as a function of time.\n",
    "    inputs:\n",
    "          \n",
    "    outputs: \n",
    "    \"\"\"\n",
    "    \n",
    "    # compose the filename for output\n",
    "    fileout = f\"Orbit_{galaxy}.txt\"\n",
    "    #  set tolerance and VolDec for calculating COM_P in CenterOfMass\n",
    "    # for M33 that is stripped more, use different values for VolDec\n",
    "    delta = 0.1 \n",
    "    if galaxy == \"M33\": \n",
    "        volDec = 4\n",
    "    else: \n",
    "        volDec = 2 \n",
    "    \n",
    "    # generate the snapshot id sequence \n",
    "    # it is always a good idea to also check if the input is eligible (not required)\n",
    "    snap_ids = np.arange(start, end, n)\n",
    "    if len(snap_ids) == 0:\n",
    "        print(\"No snapshots to analyze\")\n",
    "        return None\n",
    "    \n",
    "    # initialize the array for orbital info: t, x, y, z, vx, vy, vz of COM\n",
    "    orbit = np.zeros((len(snap_ids), 7))\n",
    "    \n",
    "    # a for loop \n",
    "    for i, snap_id in enumerate(snap_ids): # loop over files\n",
    "        \n",
    "        # compose the data filename (be careful about the folder)\n",
    "        ilbl = '000' + str(snap_id)\n",
    "        ilbl = ilbl[-3:]\n",
    "        filename=\"%s_\"%(galaxy) + ilbl + '.txt'\n",
    "        # Initialize an instance of CenterOfMass class, using disk particles\n",
    "        COM = CenterOfMass(filename, 2)\n",
    "        # Store the COM pos and vel. Remember that now COM_P required VolDec\n",
    "        COM_pos = COM.COM_P(delta, volDec)\n",
    "        COM_vel = COM.COM_V(COM_pos[0], COM_pos[1], COM_pos[2])\n",
    "        # store the time, pos, vel in ith element of the orbit array,  without units (.value) \n",
    "        # note that you can store \n",
    "        # a[i] = var1, *tuple(array1)\n",
    "\n",
    "        time = COM.time.value / 1000 # time in Gyr\n",
    "        # unpack the COM position and velocity\n",
    "        orbit[i] = np.array([time, *tuple(COM_pos.value), *tuple(COM_vel.value)])\n",
    "        \n",
    "        # print snap_id to see the progress\n",
    "        print(snap_id)\n",
    "        \n",
    "    # write the data to a file\n",
    "    # we do this because we don't want to have to repeat this process \n",
    "    # this code should only have to be called once per galaxy.\n",
    "    np.savetxt(fileout, orbit, fmt = \"%11.3f\"*7, comments='#',\n",
    "               header=\"{:>10s}{:>11s}{:>11s}{:>11s}{:>11s}{:>11s}{:>11s}\"\\\n",
    "                      .format('t', 'x', 'y', 'z', 'vx', 'vy', 'vz'))"
   ]
  },
  {
   "cell_type": "code",
   "execution_count": 5,
   "metadata": {},
   "outputs": [
    {
     "name": "stdout",
     "output_type": "stream",
     "text": [
      "0\n"
     ]
    },
    {
     "ename": "FileNotFoundError",
     "evalue": "[Errno 2] No such file or directory: 'MW_005.txt'",
     "output_type": "error",
     "traceback": [
      "\u001b[0;31m---------------------------------------------------------------------------\u001b[0m",
      "\u001b[0;31mFileNotFoundError\u001b[0m                         Traceback (most recent call last)",
      "Cell \u001b[0;32mIn[5], line 4\u001b[0m\n\u001b[1;32m      1\u001b[0m \u001b[38;5;66;03m# Recover the orbits and generate the COM files for each galaxy\u001b[39;00m\n\u001b[1;32m      2\u001b[0m \u001b[38;5;66;03m# read in 800 snapshots in intervals of n=5\u001b[39;00m\n\u001b[1;32m      3\u001b[0m \u001b[38;5;66;03m# Note: This might take a little while - test your code with a smaller number of snapshots first! \u001b[39;00m\n\u001b[0;32m----> 4\u001b[0m MW \u001b[38;5;241m=\u001b[39m \u001b[43mOrbitCOM\u001b[49m\u001b[43m(\u001b[49m\u001b[38;5;124;43m\"\u001b[39;49m\u001b[38;5;124;43mMW\u001b[39;49m\u001b[38;5;124;43m\"\u001b[39;49m\u001b[43m,\u001b[49m\u001b[43m \u001b[49m\u001b[38;5;241;43m0\u001b[39;49m\u001b[43m,\u001b[49m\u001b[43m \u001b[49m\u001b[38;5;241;43m800\u001b[39;49m\u001b[43m,\u001b[49m\u001b[43m \u001b[49m\u001b[38;5;241;43m5\u001b[39;49m\u001b[43m)\u001b[49m\n\u001b[1;32m      5\u001b[0m M31 \u001b[38;5;241m=\u001b[39m OrbitCOM(\u001b[38;5;124m\"\u001b[39m\u001b[38;5;124mM31\u001b[39m\u001b[38;5;124m\"\u001b[39m, \u001b[38;5;241m0\u001b[39m, \u001b[38;5;241m800\u001b[39m, \u001b[38;5;241m5\u001b[39m)\n\u001b[1;32m      6\u001b[0m M33 \u001b[38;5;241m=\u001b[39m OrbitCOM(\u001b[38;5;124m\"\u001b[39m\u001b[38;5;124mM33\u001b[39m\u001b[38;5;124m\"\u001b[39m, \u001b[38;5;241m0\u001b[39m, \u001b[38;5;241m800\u001b[39m, \u001b[38;5;241m5\u001b[39m)\n",
      "Cell \u001b[0;32mIn[4], line 36\u001b[0m, in \u001b[0;36mOrbitCOM\u001b[0;34m(galaxy, start, end, n)\u001b[0m\n\u001b[1;32m     34\u001b[0m filename\u001b[38;5;241m=\u001b[39m\u001b[38;5;124m\"\u001b[39m\u001b[38;5;132;01m%s\u001b[39;00m\u001b[38;5;124m_\u001b[39m\u001b[38;5;124m\"\u001b[39m\u001b[38;5;241m%\u001b[39m(galaxy) \u001b[38;5;241m+\u001b[39m ilbl \u001b[38;5;241m+\u001b[39m \u001b[38;5;124m'\u001b[39m\u001b[38;5;124m.txt\u001b[39m\u001b[38;5;124m'\u001b[39m\n\u001b[1;32m     35\u001b[0m \u001b[38;5;66;03m# Initialize an instance of CenterOfMass class, using disk particles\u001b[39;00m\n\u001b[0;32m---> 36\u001b[0m COM \u001b[38;5;241m=\u001b[39m \u001b[43mCenterOfMass\u001b[49m\u001b[43m(\u001b[49m\u001b[43mfilename\u001b[49m\u001b[43m,\u001b[49m\u001b[43m \u001b[49m\u001b[38;5;241;43m2\u001b[39;49m\u001b[43m)\u001b[49m\n\u001b[1;32m     37\u001b[0m \u001b[38;5;66;03m# Store the COM pos and vel. Remember that now COM_P required VolDec\u001b[39;00m\n\u001b[1;32m     38\u001b[0m COM_pos \u001b[38;5;241m=\u001b[39m COM\u001b[38;5;241m.\u001b[39mCOM_P(delta, volDec)\n",
      "File \u001b[0;32m~/Documents/Uni Notes/Astronomy/ASTR-400B/Homeworks/Homework6/CenterOfMass2.py:39\u001b[0m, in \u001b[0;36mCenterOfMass.__init__\u001b[0;34m(self, filename, ptype)\u001b[0m\n\u001b[1;32m     27\u001b[0m \u001b[38;5;124;03m''' Class to calculate the 6-D phase-space position of a galaxy's center of mass using\u001b[39;00m\n\u001b[1;32m     28\u001b[0m \u001b[38;5;124;03ma specified particle type. \u001b[39;00m\n\u001b[1;32m     29\u001b[0m \u001b[38;5;124;03m    \u001b[39;00m\n\u001b[0;32m   (...)\u001b[0m\n\u001b[1;32m     35\u001b[0m \u001b[38;5;124;03m        particle type to use for COM calculations\u001b[39;00m\n\u001b[1;32m     36\u001b[0m \u001b[38;5;124;03m'''\u001b[39;00m\n\u001b[1;32m     38\u001b[0m \u001b[38;5;66;03m# read data in the given file using Read\u001b[39;00m\n\u001b[0;32m---> 39\u001b[0m \u001b[38;5;28mself\u001b[39m\u001b[38;5;241m.\u001b[39mtime, \u001b[38;5;28mself\u001b[39m\u001b[38;5;241m.\u001b[39mtotal, \u001b[38;5;28mself\u001b[39m\u001b[38;5;241m.\u001b[39mdata \u001b[38;5;241m=\u001b[39m \u001b[43mRead\u001b[49m\u001b[43m(\u001b[49m\u001b[43mfilename\u001b[49m\u001b[43m)\u001b[49m                                                                                             \n\u001b[1;32m     41\u001b[0m \u001b[38;5;66;03m#create an array to store indexes of particles of desired Ptype                                \u001b[39;00m\n\u001b[1;32m     42\u001b[0m \u001b[38;5;28mself\u001b[39m\u001b[38;5;241m.\u001b[39mindex \u001b[38;5;241m=\u001b[39m np\u001b[38;5;241m.\u001b[39mwhere(\u001b[38;5;28mself\u001b[39m\u001b[38;5;241m.\u001b[39mdata[\u001b[38;5;124m'\u001b[39m\u001b[38;5;124mtype\u001b[39m\u001b[38;5;124m'\u001b[39m] \u001b[38;5;241m==\u001b[39m ptype)\n",
      "File \u001b[0;32m~/Documents/Uni Notes/Astronomy/ASTR-400B/Homeworks/Homework6/ReadFile.py:23\u001b[0m, in \u001b[0;36mRead\u001b[0;34m(filename)\u001b[0m\n\u001b[1;32m      6\u001b[0m \u001b[38;5;124;03m\"\"\"Reads the data from a file and returns the time, total particles and the data.\u001b[39;00m\n\u001b[1;32m      7\u001b[0m \n\u001b[1;32m      8\u001b[0m \u001b[38;5;124;03mParameters\u001b[39;00m\n\u001b[0;32m   (...)\u001b[0m\n\u001b[1;32m     20\u001b[0m \u001b[38;5;124;03m    The data of the particles in the snapshot.\u001b[39;00m\n\u001b[1;32m     21\u001b[0m \u001b[38;5;124;03m\"\"\"\u001b[39;00m\n\u001b[1;32m     22\u001b[0m \u001b[38;5;66;03m# open the file\u001b[39;00m\n\u001b[0;32m---> 23\u001b[0m file \u001b[38;5;241m=\u001b[39m \u001b[38;5;28;43mopen\u001b[39;49m\u001b[43m(\u001b[49m\u001b[43mfilename\u001b[49m\u001b[43m,\u001b[49m\u001b[43m \u001b[49m\u001b[38;5;124;43m\"\u001b[39;49m\u001b[38;5;124;43mr\u001b[39;49m\u001b[38;5;124;43m\"\u001b[39;49m\u001b[43m)\u001b[49m\n\u001b[1;32m     25\u001b[0m \u001b[38;5;66;03m# read the first line\u001b[39;00m\n\u001b[1;32m     26\u001b[0m line1 \u001b[38;5;241m=\u001b[39m file\u001b[38;5;241m.\u001b[39mreadline()\n",
      "\u001b[0;31mFileNotFoundError\u001b[0m: [Errno 2] No such file or directory: 'MW_005.txt'"
     ]
    }
   ],
   "source": [
    "# Recover the orbits and generate the COM files for each galaxy\n",
    "# read in 800 snapshots in intervals of n=5\n",
    "# Note: This might take a little while - test your code with a smaller number of snapshots first! \n",
    "MW = OrbitCOM(\"MW\", 0, 800, 5)\n",
    "M31 = OrbitCOM(\"M31\", 0, 800, 5)\n",
    "M33 = OrbitCOM(\"M33\", 0, 800, 5)"
   ]
  },
  {
   "cell_type": "code",
   "execution_count": null,
   "metadata": {},
   "outputs": [],
   "source": [
    "# Read in the data files for the orbits of each galaxy that you just created\n",
    "# headers:  t, x, y, z, vx, vy, vz\n",
    "# using np.genfromtxt\n",
    "MW_COM = np.genfromtxt(\"Orbit_MW.txt\",dtype=None,names=True)\n",
    "M31_COM = np.genfromtxt(\"Orbit_M31.txt\",dtype=None,names=True)\n",
    "M33_COM = np.genfromtxt(\"Orbit_M33.txt\",dtype=None,names=True)"
   ]
  },
  {
   "cell_type": "code",
   "execution_count": null,
   "metadata": {},
   "outputs": [],
   "source": [
    "# function to compute the magnitude of the difference between two vectors \n",
    "# You can use this function to return both the relative position and relative velocity for two \n",
    "# galaxies over the entire orbit  \n",
    "def magdiff(pos1, pos2):\n",
    "    \"\"\"function to compute the magnitude of the difference between two vectors.\n",
    "    \n",
    "    Parameters:\n",
    "    -----------\n",
    "    pos1 : float\n",
    "        position of galaxy 1\n",
    "    pos2 : float\n",
    "        position of galaxy 2\n",
    "    \n",
    "    Returns:\n",
    "    --------\n",
    "    magdiff : float\n",
    "        magnitude of the difference between two vectors\n",
    "    \"\"\"\n",
    "    diff = pos1 - pos2\n",
    "    magdiff = np.sqrt(diff[0]**2 + diff[1]**2 + diff[2]**2)\n",
    "    return magdiff"
   ]
  },
  {
   "cell_type": "code",
   "execution_count": null,
   "metadata": {},
   "outputs": [],
   "source": [
    "# Determine the magnitude of the relative positions and velocities \n",
    "total_timesteps = MW_COM.size\n",
    "\n",
    "# Initialize arrays to store separations and relative velocities\n",
    "separation_MW_M31 = np.zeros(total_timesteps)\n",
    "relativevel_MW_M31 = np.zeros(total_timesteps)\n",
    "separation_M33_M31 = np.zeros(total_timesteps)\n",
    "relativevel_M33_M31 = np.zeros(total_timesteps)\n",
    "\n",
    "# Create position and velocity arrays for each galaxy\n",
    "for i in range(total_timesteps):\n",
    "    # Position vectors\n",
    "    galaxies_pos = {\n",
    "        'MW': np.array([MW_COM[i]['x'], MW_COM[i]['y'], MW_COM[i]['z']]),\n",
    "        'M31': np.array([M31_COM[i]['x'], M31_COM[i]['y'], M31_COM[i]['z']]),\n",
    "        'M33': np.array([M33_COM[i]['x'], M33_COM[i]['y'], M33_COM[i]['z']])\n",
    "    }\n",
    "    \n",
    "    # Velocity vectors\n",
    "    galaxies_vel = {\n",
    "        'MW': np.array([MW_COM[i]['vx'], MW_COM[i]['vy'], MW_COM[i]['vz']]),\n",
    "        'M31': np.array([M31_COM[i]['vx'], M31_COM[i]['vy'], M31_COM[i]['vz']]),\n",
    "        'M33': np.array([M33_COM[i]['vx'], M33_COM[i]['vy'], M33_COM[i]['vz']])\n",
    "    }\n",
    "    \n",
    "    # Calculate separations and relative velocities\n",
    "    separation_MW_M31[i] = magdiff(galaxies_pos['MW'], galaxies_pos['M31'])\n",
    "    relativevel_MW_M31[i] = magdiff(galaxies_vel['MW'], galaxies_vel['M31'])\n",
    "    \n",
    "    separation_M33_M31[i] = magdiff(galaxies_pos['M33'], galaxies_pos['M31'])\n",
    "    relativevel_M33_M31[i] = magdiff(galaxies_vel['M33'], galaxies_vel['M31'])\n"
   ]
  },
  {
   "cell_type": "code",
   "execution_count": null,
   "metadata": {},
   "outputs": [],
   "source": [
    "# Plot the Orbit of the galaxies \n",
    "#################################\n",
    "time = MW_COM['t']\n",
    "\n",
    "fig,ax = plt.subplots(figsize=(10,8))\n",
    "\n",
    "ax.plot(time, separation_M33_M31,\n",
    "         linewidth = 3, label='M31-M33')\n",
    "ax.plot(time, separation_MW_M31,\n",
    "         linewidth = 3, label='MW-M31')\n",
    "ax.plot(time, time*(-4.5) + 100, '--', lw=3, label=r'Dacay Rate $-4.5t+100$')\n",
    "    \n",
    "# Axes labels \n",
    "ax.set_xlabel('Time (Gyr)', fontsize=22) \n",
    "ax.set_ylabel('Separation (kpc)', fontsize=22)\n",
    "\n",
    "# Legend\n",
    "ax.legend(loc='upper right', fontsize='x-large')\n",
    "\n",
    "# save the file \n",
    "plt.savefig('Separation.png')\n"
   ]
  },
  {
   "cell_type": "code",
   "execution_count": null,
   "metadata": {},
   "outputs": [],
   "source": [
    "# Plot the orbital velocities of the galaxies \n",
    "#################################\n",
    "fig, ax = plt.subplots(figsize=(10, 8))\n",
    "\n",
    "ax.plot(time, relativevel_M33_M31,\n",
    "            linewidth = 3, label='M31-M33')\n",
    "ax.plot(time, relativevel_MW_M31,\n",
    "            linewidth = 3, label='MW-M31')\n",
    "\n",
    "# Axes labels\n",
    "ax.set_xlabel('Time (Gyr)', fontsize=22)\n",
    "ax.set_ylabel('Relative Velocity (km/s)', fontsize=22)\n",
    "\n",
    "# Legend\n",
    "ax.legend(loc='upper right', fontsize='x-large')\n",
    "\n",
    "# Save the file\n",
    "plt.savefig('RelativeVelocity.png')"
   ]
  },
  {
   "cell_type": "code",
   "execution_count": null,
   "metadata": {},
   "outputs": [],
   "source": []
  }
 ],
 "metadata": {
  "kernelspec": {
   "display_name": "astroJWST",
   "language": "python",
   "name": "python3"
  },
  "language_info": {
   "codemirror_mode": {
    "name": "ipython",
    "version": 3
   },
   "file_extension": ".py",
   "mimetype": "text/x-python",
   "name": "python",
   "nbconvert_exporter": "python",
   "pygments_lexer": "ipython3",
   "version": "3.10.8"
  }
 },
 "nbformat": 4,
 "nbformat_minor": 2
}
