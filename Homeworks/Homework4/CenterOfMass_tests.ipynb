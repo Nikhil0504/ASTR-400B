{
 "cells": [
  {
   "cell_type": "code",
   "execution_count": 2,
   "metadata": {},
   "outputs": [],
   "source": [
    "import CenterOfMass as CoM"
   ]
  },
  {
   "cell_type": "code",
   "execution_count": 4,
   "metadata": {},
   "outputs": [
    {
     "name": "stdout",
     "output_type": "stream",
     "text": [
      "CHANGE =  0.22978104414074885\n",
      "maxR 11.020481333398111\n",
      "CHANGE =  0.2599205188628648\n",
      "maxR 5.5102406666990555\n",
      "CHANGE =  0.0006566884144847407\n",
      "maxR 2.7551203333495278\n",
      "MW COM position [-0.87  2.39 -1.42] kpc\n",
      "MW COM velocity [-0.47  3.41 -1.33] km / s\n"
     ]
    }
   ],
   "source": [
    "# below is an example of using the class for MW\n",
    "MW_COM = CoM.CenterOfMass(\"../../Data/MW_000.txt\", 2)\n",
    "\n",
    "# below gives you an example of calling the class's functions\n",
    "# MW:   store the position and velocity COM\n",
    "MW_COM_p = MW_COM.COM_P(0.1)\n",
    "print(\"MW COM position\" , MW_COM_p)\n",
    "MW_COM_v = MW_COM.COM_V(MW_COM_p[0], MW_COM_p[1], MW_COM_p[2])\n",
    "print(\"MW COM velocity\",MW_COM_v)"
   ]
  },
  {
   "cell_type": "code",
   "execution_count": 5,
   "metadata": {},
   "outputs": [
    {
     "name": "stdout",
     "output_type": "stream",
     "text": [
      "CHANGE =  0.04459429679900495\n",
      "maxR 16.68229943877858\n",
      "M31 COM position [-377.66  611.43 -284.64] kpc\n",
      "M31 COM velocity [ 72.85 -72.14  49.  ] km / s\n"
     ]
    }
   ],
   "source": [
    "# now for M31\n",
    "M31_COM = CoM.CenterOfMass(\"../../Data/M31_000.txt\", 2)\n",
    "\n",
    "# below gives you an example of calling the class's functions\n",
    "# M31:   store the position and velocity COM\n",
    "M31_COM_p = M31_COM.COM_P(0.1)\n",
    "print(\"M31 COM position\" , M31_COM_p)\n",
    "M31_COM_v = M31_COM.COM_V(M31_COM_p[0], M31_COM_p[1], M31_COM_p[2])\n",
    "print(\"M31 COM velocity\",M31_COM_v)"
   ]
  },
  {
   "cell_type": "code",
   "execution_count": 6,
   "metadata": {},
   "outputs": [
    {
     "name": "stdout",
     "output_type": "stream",
     "text": [
      "CHANGE =  0.01308865872044862\n",
      "maxR 3.9330197268235163\n",
      "M33 COM position [-476.22  491.44 -412.4 ] kpc\n",
      "M33 COM velocity [ 44.42 101.78 142.23] km / s\n"
     ]
    }
   ],
   "source": [
    "# last for M33\n",
    "M33_COM = CoM.CenterOfMass(\"../../Data/M33_000.txt\", 2)\n",
    "\n",
    "# below gives you an example of calling the class's functions\n",
    "# M33:   store the position and velocity COM\n",
    "M33_COM_p = M33_COM.COM_P(0.1)\n",
    "print(\"M33 COM position\" , M33_COM_p)\n",
    "M33_COM_v = M33_COM.COM_V(M33_COM_p[0], M33_COM_p[1], M33_COM_p[2])\n",
    "print(\"M33 COM velocity\",M33_COM_v)"
   ]
  },
  {
   "cell_type": "code",
   "execution_count": 10,
   "metadata": {},
   "outputs": [
    {
     "name": "stdout",
     "output_type": "stream",
     "text": [
      "Separation between MW and M31: 770.139 kpc\n",
      "Velocity Separation between MW and M31: 116.691 km / s\n"
     ]
    }
   ],
   "source": [
    "import numpy as np\n",
    "\n",
    "# magnitude of the separation between the MW and M31 COM positions and velocities\n",
    "sep_MW_M31 = np.linalg.norm(MW_COM_p - M31_COM_p)\n",
    "print(\"Separation between MW and M31:\", np.round(sep_MW_M31,3))\n",
    "sep_MW_M31_v = np.linalg.norm(MW_COM_v - M31_COM_v)\n",
    "print(\"Velocity Separation between MW and M31:\", np.round(sep_MW_M31_v,3))"
   ]
  },
  {
   "cell_type": "code",
   "execution_count": 11,
   "metadata": {},
   "outputs": [
    {
     "name": "stdout",
     "output_type": "stream",
     "text": [
      "Separation between MW and M33: 796.261 kpc\n",
      "Velocity Separation between MW and M33: 179.725 km / s\n"
     ]
    }
   ],
   "source": [
    "# magnitude of the separation between the MW and M33 COM positions and velocities\n",
    "sep_MW_M33 = np.linalg.norm(MW_COM_p - M33_COM_p)\n",
    "print(\"Separation between MW and M33:\", np.round(sep_MW_M33,3))\n",
    "sep_MW_M33_v = np.linalg.norm(MW_COM_v - M33_COM_v)\n",
    "print(\"Velocity Separation between MW and M33:\", np.round(sep_MW_M33_v,3))"
   ]
  },
  {
   "cell_type": "markdown",
   "metadata": {},
   "source": [
    "The iterative process is important in the scenario where two galaxies are merging, since it can find the COM irrespective of taking all other physics processes into account. It only requires the position and mass of particles to correctly find the COM. In such scenarios, the change in the center of mass (COM) can be very rapid. However, the iterative process can quickly determine the densest region (in terms of mass and population) of the galaxy, making it quite efficient."
   ]
  },
  {
   "cell_type": "markdown",
   "metadata": {},
   "source": []
  }
 ],
 "metadata": {
  "kernelspec": {
   "display_name": "astroJWST",
   "language": "python",
   "name": "python3"
  },
  "language_info": {
   "codemirror_mode": {
    "name": "ipython",
    "version": 3
   },
   "file_extension": ".py",
   "mimetype": "text/x-python",
   "name": "python",
   "nbconvert_exporter": "python",
   "pygments_lexer": "ipython3",
   "version": "3.10.8"
  }
 },
 "nbformat": 4,
 "nbformat_minor": 2
}
